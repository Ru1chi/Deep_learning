{
  "nbformat": 4,
  "nbformat_minor": 0,
  "metadata": {
    "colab": {
      "provenance": [],
      "authorship_tag": "ABX9TyMPCg7qJdzovFO/41NpH140",
      "include_colab_link": true
    },
    "kernelspec": {
      "name": "python3",
      "display_name": "Python 3"
    },
    "language_info": {
      "name": "python"
    }
  },
  "cells": [
    {
      "cell_type": "markdown",
      "metadata": {
        "id": "view-in-github",
        "colab_type": "text"
      },
      "source": [
        "<a href=\"https://colab.research.google.com/github/Ru1chi/Deep_learning/blob/main/Vector_operations.ipynb\" target=\"_parent\"><img src=\"https://colab.research.google.com/assets/colab-badge.svg\" alt=\"Open In Colab\"/></a>"
      ]
    },
    {
      "cell_type": "markdown",
      "source": [
        "**Vector Operations in Python**"
      ],
      "metadata": {
        "id": "E38dNIr5d2vB"
      }
    },
    {
      "cell_type": "code",
      "execution_count": 4,
      "metadata": {
        "id": "e8FyYGc8dJ1Y"
      },
      "outputs": [],
      "source": [
        "import numpy as np"
      ]
    },
    {
      "cell_type": "markdown",
      "source": [
        "Scalar Multiplication"
      ],
      "metadata": {
        "id": "hJNzifcseCUK"
      }
    },
    {
      "cell_type": "code",
      "source": [
        "def scalar_multiply(vector,scalar):\n",
        "  return np.multiply(scalar,vector)\n"
      ],
      "metadata": {
        "id": "DbXzOdEud9GT"
      },
      "execution_count": 2,
      "outputs": []
    },
    {
      "cell_type": "code",
      "source": [
        "v=[1,2,4]\n",
        "s=5"
      ],
      "metadata": {
        "id": "lvwqg7yGexwu"
      },
      "execution_count": 3,
      "outputs": []
    },
    {
      "cell_type": "code",
      "source": [
        "output=scalar_multiply(v,s)\n",
        "print(output)"
      ],
      "metadata": {
        "colab": {
          "base_uri": "https://localhost:8080/"
        },
        "id": "Cdi_s-Pke1xP",
        "outputId": "52369b8c-163d-47ad-f6f6-5f2a24ab003a"
      },
      "execution_count": 4,
      "outputs": [
        {
          "output_type": "stream",
          "name": "stdout",
          "text": [
            "[ 5 10 20]\n"
          ]
        }
      ]
    },
    {
      "cell_type": "markdown",
      "source": [
        "Element wise multiplication"
      ],
      "metadata": {
        "id": "xaat15nifBWK"
      }
    },
    {
      "cell_type": "code",
      "source": [
        "def element_wise_multiply(vector1,scalar1):\n",
        "  return np.multiply(scalar1,vector1)\n"
      ],
      "metadata": {
        "id": "4nbdFv8Pe9aH"
      },
      "execution_count": 5,
      "outputs": []
    },
    {
      "cell_type": "code",
      "source": [
        "v1=[1,2,4]\n",
        "s1=[2,5,3]\n"
      ],
      "metadata": {
        "id": "TyHzDysJfUQt"
      },
      "execution_count": 8,
      "outputs": []
    },
    {
      "cell_type": "code",
      "source": [
        "\n",
        "output1=element_wise_multiply(v1,s1)\n",
        "print(output1)"
      ],
      "metadata": {
        "colab": {
          "base_uri": "https://localhost:8080/"
        },
        "id": "V9nnfqKBg4Ms",
        "outputId": "ed2a796d-6932-41f9-d65b-b6ffb34de1e8"
      },
      "execution_count": 9,
      "outputs": [
        {
          "output_type": "stream",
          "name": "stdout",
          "text": [
            "[ 2 10 12]\n"
          ]
        }
      ]
    },
    {
      "cell_type": "markdown",
      "source": [
        "Vector projection\n",
        "\n",
        "proj of a on b=(a.b/b.b)*b"
      ],
      "metadata": {
        "id": "boEkzu85hJ6d"
      }
    },
    {
      "cell_type": "code",
      "source": [
        "def vector_projection(a,b):# convert the list into numpy array\n",
        "  a=np.array(a)\n",
        "  b=np.array(b)\n",
        "  projection = (np.dot(a,b)/np.dot(b,b))*b\n",
        "  return projection"
      ],
      "metadata": {
        "id": "pODf85OnhEgL"
      },
      "execution_count": 10,
      "outputs": []
    },
    {
      "cell_type": "code",
      "source": [
        "v1=[2,3]\n",
        "v2=[1,1]"
      ],
      "metadata": {
        "id": "elbxQvECiaXx"
      },
      "execution_count": 13,
      "outputs": []
    },
    {
      "cell_type": "code",
      "source": [
        "\n",
        "output1=vector_projection(v1,v2)\n",
        "print(output1)"
      ],
      "metadata": {
        "colab": {
          "base_uri": "https://localhost:8080/"
        },
        "id": "J2g3KRddiWfg",
        "outputId": "1768d0f5-edc1-4c6a-b342-df987f355a05"
      },
      "execution_count": 14,
      "outputs": [
        {
          "output_type": "stream",
          "name": "stdout",
          "text": [
            "[2.5 2.5]\n"
          ]
        }
      ]
    },
    {
      "cell_type": "markdown",
      "source": [
        "Cosine Similarity\n",
        "\n",
        "cosine_similarity(A,B)=A.B/||A||  ||B||  (||A|| magnitude of A vector * magnitude of B vector"
      ],
      "metadata": {
        "id": "ldXCsBxbjQwM"
      }
    },
    {
      "cell_type": "code",
      "source": [
        "def cosine_similarity(a,b):\n",
        "  dot_product=np.dot(a,b)\n",
        "  norm_a=np.linalg.norm(a)\n",
        "  norm_b=np.linalg.norm(b)\n",
        "  similarity=dot_product/(norm_a *norm_b)\n",
        "  return similarity\n",
        ""
      ],
      "metadata": {
        "id": "MuMLK0VfiueJ"
      },
      "execution_count": 1,
      "outputs": []
    },
    {
      "cell_type": "code",
      "source": [
        "v1=[2,4,5]\n",
        "v2=[2,6,1]"
      ],
      "metadata": {
        "id": "_u3UgH9h1KQa"
      },
      "execution_count": 2,
      "outputs": []
    },
    {
      "cell_type": "code",
      "source": [
        "output1=cosine_similarity(v1,v2)\n",
        "print(output1)"
      ],
      "metadata": {
        "colab": {
          "base_uri": "https://localhost:8080/"
        },
        "id": "hog0W5oM1PM4",
        "outputId": "c8823969-6314-4210-fe94-c83c85210d99"
      },
      "execution_count": 5,
      "outputs": [
        {
          "output_type": "stream",
          "name": "stdout",
          "text": [
            "0.768273325346536\n"
          ]
        }
      ]
    },
    {
      "cell_type": "code",
      "source": [],
      "metadata": {
        "id": "JF-Yy4e11WtQ"
      },
      "execution_count": null,
      "outputs": []
    }
  ]
}