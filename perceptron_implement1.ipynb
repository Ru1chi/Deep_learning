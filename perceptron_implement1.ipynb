{
  "nbformat": 4,
  "nbformat_minor": 0,
  "metadata": {
    "colab": {
      "provenance": [],
      "authorship_tag": "ABX9TyMBSX9oB2MkiUPl+sL2uzQe",
      "include_colab_link": true
    },
    "kernelspec": {
      "name": "python3",
      "display_name": "Python 3"
    },
    "language_info": {
      "name": "python"
    }
  },
  "cells": [
    {
      "cell_type": "markdown",
      "metadata": {
        "id": "view-in-github",
        "colab_type": "text"
      },
      "source": [
        "<a href=\"https://colab.research.google.com/github/Ru1chi/Deep_learning/blob/main/perceptron_implement1.ipynb\" target=\"_parent\"><img src=\"https://colab.research.google.com/assets/colab-badge.svg\" alt=\"Open In Colab\"/></a>"
      ]
    },
    {
      "cell_type": "markdown",
      "source": [
        "**Perceptron** **from** **scratch**\n",
        "**bold text**\n",
        "**using** **sigmoid** **function**"
      ],
      "metadata": {
        "id": "RW4hJ-HkcGRi"
      }
    },
    {
      "cell_type": "code",
      "source": [
        "import numpy as np\n",
        "\n"
      ],
      "metadata": {
        "id": "j-EuDJ4KcAir"
      },
      "execution_count": null,
      "outputs": []
    },
    {
      "cell_type": "code",
      "source": [
        "class sigmoidPerceptron():\n",
        "\n",
        "\n",
        "\n",
        "\n",
        "  def __init__(self,input_size):#initiate the parameters -wights and bias| input_size is the shape of your data\n",
        "    self.weights=np.random.randn(input_size)#initiates a weight vector which contains the similar no of values as the features of input_data\n",
        "    self.bias=np.random.randn(1)\n",
        "\n",
        "\n",
        "\n",
        "\n",
        "  def sigmoid(self,z):#this function is to give the sigmoid formula|applied to the weighted sum that is z|this is for binary classification\n",
        "    return 1/(1+np.exp(-z))#z=w1*x1\n",
        "\n",
        "\n",
        "\n",
        "  def predict(self,inputs):#finds the weighted sum and call the sigmoid function\n",
        "    weighted_sum=np.dot(inputs,self.weights) +self.bias    #dot product of the vectorand get numerical value | for example-[10,25,50],[0.5,0.9,0.1]=(10*0.5)+(25*0.9)+(50*0.1)+b\n",
        "    return self.sigmoid(weighted_sum)#calculate weighted_sum and calling the sigmoid function which uses weighted_sum in its formula\n",
        "\n",
        "  def fit(self,inputs,targets,learning_rate,num_epochs):# to fit the model (optimize the model-update thw weights) |target-labels,learning_rate-change in weight and bias parameter at each iteration,epochs=no of iteration\n",
        "    num_examples=inputs.shape[0]# this is the no of rows                       #in fit method we pass the training data\n",
        "    for epoch in range(num_epochs):\n",
        "      for i in range(num_examples):\n",
        "        input_vector=inputs[i]\n",
        "        target=targets[i]\n",
        "        prediction=self.predict(input_vector)#make the prediction\n",
        "        error=target-prediction#difference between target and predictions is t is true label and p is predicted label\n",
        "        #update weights\n",
        "        gradient_weights=error* prediction *(1-prediction)*input_vector\n",
        "        self.weights= self.weights+learning_rate*gradient_weights #update self.weights                       #for example has 1000 epochs and 100 datapoints(num_examples)|for each datapoint the w and b are updated based on the error so the program runs for 1000 times\n",
        "\n",
        "        #update bias\n",
        "        gradient_bias=error*prediction*(1-prediction)\n",
        "        self.bias=self.bias+learning_rate*gradient_bias\n",
        "\n",
        "\n",
        "\n",
        "  def evaluate(self,inputs,targets):#find the accuracy of the model,pass x_test(inputs),y_tset(target)\n",
        "    correct=0#correct is a counter to find how many values the model predicted correctly\n",
        "\n",
        "    for input_vector,target in zip(inputs,targets):\n",
        "      prediction=self.predict(input_vector)\n",
        "\n",
        "      if prediction >= 0.5:\n",
        "        predicted_class=1\n",
        "      else:\n",
        "        predicted_class =0\n",
        "\n",
        "      if predicted_class==target:\n",
        "        correct+=1\n",
        "\n",
        "    accuracy=correct/len(inputs)           #accuracy=no of correct prediction/total no of datapoints\n",
        "    return accuracy"
      ],
      "metadata": {
        "id": "fj7T5dPHcT9H"
      },
      "execution_count": null,
      "outputs": []
    },
    {
      "cell_type": "code",
      "source": [
        "#for example of zip   (thisis just to understand the concept of zip)\n",
        "list1=[10,20,30]\n",
        "list2=[0.1,0.2,0.3]\n",
        "for val1 ,val2 in zip(list1,list2):\n",
        "  print(val1,val2)\n"
      ],
      "metadata": {
        "id": "ZyU5KBaud-Z9",
        "colab": {
          "base_uri": "https://localhost:8080/"
        },
        "outputId": "f4652e2a-7311-4cdc-dbc5-7796720be963"
      },
      "execution_count": null,
      "outputs": [
        {
          "output_type": "stream",
          "name": "stdout",
          "text": [
            "10 0.1\n",
            "20 0.2\n",
            "30 0.3\n"
          ]
        }
      ]
    },
    {
      "cell_type": "markdown",
      "source": [
        "Importing the dependencies"
      ],
      "metadata": {
        "id": "A3I0TTl7dtj1"
      }
    }
  ]
}