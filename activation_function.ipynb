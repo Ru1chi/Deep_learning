{
  "nbformat": 4,
  "nbformat_minor": 0,
  "metadata": {
    "colab": {
      "provenance": [],
      "authorship_tag": "ABX9TyNFNKFKM5zRWpWFj9bPpaXt",
      "include_colab_link": true
    },
    "kernelspec": {
      "name": "python3",
      "display_name": "Python 3"
    },
    "language_info": {
      "name": "python"
    }
  },
  "cells": [
    {
      "cell_type": "markdown",
      "metadata": {
        "id": "view-in-github",
        "colab_type": "text"
      },
      "source": [
        "<a href=\"https://colab.research.google.com/github/Ru1chi/Deep_learning/blob/main/activation_function.ipynb\" target=\"_parent\"><img src=\"https://colab.research.google.com/assets/colab-badge.svg\" alt=\"Open In Colab\"/></a>"
      ]
    },
    {
      "cell_type": "code",
      "execution_count": 1,
      "metadata": {
        "id": "Fh2ze5MjInoM"
      },
      "outputs": [],
      "source": [
        "import math"
      ]
    },
    {
      "cell_type": "markdown",
      "source": [
        "**Sigmoid activation function**"
      ],
      "metadata": {
        "id": "k0oY6WWuw_PJ"
      }
    },
    {
      "cell_type": "code",
      "source": [
        "def sigmoid(x):\n",
        "  return 1/ (1+math.exp(-x))   #math.exp(-x) means e to the power -x\n",
        ""
      ],
      "metadata": {
        "id": "Dh4Po9oYw92n"
      },
      "execution_count": 2,
      "outputs": []
    },
    {
      "cell_type": "code",
      "source": [
        "sigmoid_op=sigmoid(2)\n",
        "print(sigmoid_op)"
      ],
      "metadata": {
        "colab": {
          "base_uri": "https://localhost:8080/"
        },
        "id": "dHS808uuxjLG",
        "outputId": "bea9fb5f-aa34-44bd-d089-8753037d5cfc"
      },
      "execution_count": 3,
      "outputs": [
        {
          "output_type": "stream",
          "name": "stdout",
          "text": [
            "0.8807970779778823\n"
          ]
        }
      ]
    },
    {
      "cell_type": "markdown",
      "source": [
        "**ReLu activation Function**"
      ],
      "metadata": {
        "id": "EVtCHCi6xd0Z"
      }
    },
    {
      "cell_type": "code",
      "source": [
        "def relu(x):   #max(x,0)\n",
        "  return x if x> 0 else 0\n"
      ],
      "metadata": {
        "id": "XklCHbPfxc8e"
      },
      "execution_count": 6,
      "outputs": []
    },
    {
      "cell_type": "code",
      "source": [
        "relu_op=relu(2)\n",
        "print(relu_op)"
      ],
      "metadata": {
        "colab": {
          "base_uri": "https://localhost:8080/"
        },
        "id": "_J9RfnZ8x_4B",
        "outputId": "22623d98-4e9c-4b14-9a4e-482242b81299"
      },
      "execution_count": 7,
      "outputs": [
        {
          "output_type": "stream",
          "name": "stdout",
          "text": [
            "2\n"
          ]
        }
      ]
    },
    {
      "cell_type": "code",
      "source": [
        "relu_op=relu(-20)\n",
        "print(relu_op)"
      ],
      "metadata": {
        "colab": {
          "base_uri": "https://localhost:8080/"
        },
        "id": "qDHPyukQyE15",
        "outputId": "fe72e409-9f8b-4132-c455-701398cd0e56"
      },
      "execution_count": 8,
      "outputs": [
        {
          "output_type": "stream",
          "name": "stdout",
          "text": [
            "0\n"
          ]
        }
      ]
    },
    {
      "cell_type": "markdown",
      "source": [
        "**Tan h activation function**"
      ],
      "metadata": {
        "id": "0bl-2faoySfE"
      }
    },
    {
      "cell_type": "code",
      "source": [
        "def tanH(x):   #range(-1,1)\n",
        "  return ((math.exp(x)-math.exp(-x)) / (math.exp(x)+math.exp(-x)))"
      ],
      "metadata": {
        "id": "7JiEmZ3eyQZe"
      },
      "execution_count": 14,
      "outputs": []
    },
    {
      "cell_type": "code",
      "source": [
        "tanH_op=tanH(-200)\n",
        "print(tanH_op)"
      ],
      "metadata": {
        "colab": {
          "base_uri": "https://localhost:8080/"
        },
        "id": "qt535GjOye1K",
        "outputId": "c59d54e5-93da-4a77-e904-77cb7d11ed30"
      },
      "execution_count": 15,
      "outputs": [
        {
          "output_type": "stream",
          "name": "stdout",
          "text": [
            "-1.0\n"
          ]
        }
      ]
    },
    {
      "cell_type": "markdown",
      "source": [
        "**Softmax Activation function**"
      ],
      "metadata": {
        "id": "aX0xEO5GzKol"
      }
    },
    {
      "cell_type": "code",
      "source": [
        "import builtins"
      ],
      "metadata": {
        "id": "972etyuU5X6n"
      },
      "execution_count": 58,
      "outputs": []
    },
    {
      "cell_type": "code",
      "source": [
        "def softmax(x):\n",
        "  #x---.list\n",
        "  exp_x=[math.exp(i) for i in x]\n",
        "  sum1=builtins.sum(exp_x)\n",
        "  #compute softmax value for each elemet in x\n",
        "  return [j / sum1 for j in exp_x]\n",
        "\n"
      ],
      "metadata": {
        "id": "oIpoeQli3stw"
      },
      "execution_count": 59,
      "outputs": []
    },
    {
      "cell_type": "code",
      "source": [
        "softmax_op=softmax([1,2,-3])\n",
        "print(softmax_op)"
      ],
      "metadata": {
        "colab": {
          "base_uri": "https://localhost:8080/"
        },
        "id": "yH-1eH4h3sgA",
        "outputId": "6295936d-95c6-462c-f2ca-8fe671ca8551"
      },
      "execution_count": 60,
      "outputs": [
        {
          "output_type": "stream",
          "name": "stdout",
          "text": [
            "[0.2676231541498623, 0.7274751568004647, 0.004901689049672921]\n"
          ]
        }
      ]
    },
    {
      "cell_type": "code",
      "source": [
        "1"
      ],
      "metadata": {
        "id": "8aAPpzkJ3fhE"
      },
      "execution_count": null,
      "outputs": []
    }
  ]
}